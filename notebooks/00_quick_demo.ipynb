{
 "cells": [
  {
   "cell_type": "markdown",
   "metadata": {},
   "source": [
    "# Quick demo\n",
    "Run a lightweight simulation with reduced sizes to inspect the outputs."
   ]
  },
  {
   "cell_type": "code",
   "execution_count": null,
   "metadata": {},
   "outputs": [],
   "source": [
    "from network_bias_dynamics.simulate import compare_with_consistent_noise\n",
    "from network_bias_dynamics.plotting import plot_compare_topologies\n",
    "\n",
    "cfg = dict(\n",
    "    N=50,\n",
    "    T=200,\n",
    "    mu=0.05,\n",
    "    trials=10,\n",
    "    bias_level=0.0,\n",
    "    rng_seed=0,\n",
    "    graph_params=dict(\n",
    "        ring=dict(k=3),\n",
    "        er=dict(mean_deg=6),\n",
    "        smallworld=dict(base_k=3, add_prob=0.1),\n",
    "    ),\n",
    ")\n",
    "results = compare_with_consistent_noise(**cfg)\n",
    "plot_compare_topologies(results, \"figures/demo_compare.png\")\n",
    "results['summary']"
   ]
  }
 ],
 "metadata": {
  "kernelspec": {
   "display_name": "Python 3",
   "language": "python",
   "name": "python3"
  },
  "language_info": {
   "name": "python",
   "version": "3.11"
  }
 },
 "nbformat": 4,
 "nbformat_minor": 5
}
