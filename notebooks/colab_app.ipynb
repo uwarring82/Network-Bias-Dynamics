{
 "cells": [
  {
   "cell_type": "code",
   "execution_count": null,
   "id": "6e3e7c3e",
   "metadata": {},
   "outputs": [],
   "source": [
    "#@title Install package from GitHub\n",
    "#@markdown Use a released tag for reproducibility (change TAG to try other versions).\n",
    "TAG = \"main\"  #@param {type:\"string\"}\n",
    "# TODO: Update TAG default to the first release tag once available.\n",
    "print(f'Installing Network-Bias-Dynamics@{TAG}')\n",
    "!pip -q install git+https://github.com/uwarring82/Network-Bias-Dynamics@{TAG}\n"
   ]
  },
  {
   "cell_type": "code",
   "execution_count": null,
   "id": "03be51d9",
   "metadata": {},
   "outputs": [],
   "source": [
    "#@title Imports\n",
    "import numpy as np\n",
    "from network_bias_dynamics.simulate import (\n",
    "    compare_with_consistent_noise,\n",
    "    single_biased_node_four_traces,\n",
    ")\n",
    "from network_bias_dynamics.plotting import (\n",
    "    plot_compare_topologies,\n",
    "    plot_single_biased_node,\n",
    ")\n"
   ]
  },
  {
   "cell_type": "code",
   "execution_count": null,
   "id": "bd1a2f56",
   "metadata": {},
   "outputs": [],
   "source": [
    "#@title Compare topologies (bias-free) { form-width: \"40%\" }\n",
    "# Core settings\n",
    "N = 500            #@param {type:\"integer\"}\n",
    "T = 1000           #@param {type:\"integer\"}\n",
    "mu = 0.02          #@param {type:\"number\"}\n",
    "trials = 30        #@param {type:\"integer\"}  # lighter default for Colab; users can raise to 100\n",
    "rng_seed = 2025    #@param {type:\"integer\"}\n",
    "\n",
    "# Graph params\n",
    "ring_k = 5         #@param {type:\"integer\"}  # ring degree = 2*k\n",
    "er_mean_deg = 10   #@param {type:\"integer\"}\n",
    "sw_base_k = 5      #@param {type:\"integer\"}\n",
    "sw_add_prob = 0.05 #@param {type:\"number\"}\n",
    "\n",
    "cfg = {\n",
    "    \"N\": N, \"T\": T, \"mu\": mu, \"trials\": trials,\n",
    "    \"bias_level\": 0.0, \"rng_seed\": rng_seed,\n",
    "    \"graph_params\": {\n",
    "        \"ring\": {\"k\": ring_k},\n",
    "        \"er\": {\"mean_deg\": er_mean_deg},\n",
    "        \"smallworld\": {\"base_k\": sw_base_k, \"add_prob\": sw_add_prob},\n",
    "    },\n",
    "}\n",
    "print('Running compare_with_consistent_noise with configuration:')\n",
    "print(cfg)\n",
    "out = compare_with_consistent_noise(**cfg)\n",
    "plot_compare_topologies(out, save_path=\"compare_topologies.png\", write_csv=True, csv_path=\"compare_topologies_summary.csv\")\n",
    "print('Saved: compare_topologies.png, compare_topologies_summary.csv')\n"
   ]
  },
  {
   "cell_type": "code",
   "execution_count": null,
   "id": "8992a193",
   "metadata": {},
   "outputs": [],
   "source": [
    "#@title Single biased node (four traces) { form-width: \"40%\" }\n",
    "bias_level = 0.15               #@param {type:\"number\"}\n",
    "sw_cap_degree = 20              #@param {type:\"integer\"}\n",
    "sw_extra_attempts_per_node = 8  #@param {type:\"integer\"}\n",
    "\n",
    "cfg4 = {\n",
    "    \"N\": N, \"T\": T, \"mu\": mu, \"trials\": trials,\n",
    "    \"bias_level\": bias_level, \"rng_seed\": rng_seed,\n",
    "    \"graph_params\": {\n",
    "        \"ring\": {\"k\": ring_k},\n",
    "        \"er\": {\"mean_deg\": er_mean_deg},\n",
    "        \"smallworld_tail\": {\n",
    "            \"base_k\": sw_base_k,\n",
    "            \"cap_degree\": sw_cap_degree,\n",
    "            \"extra_attempts_per_node\": sw_extra_attempts_per_node,\n",
    "        },\n",
    "    },\n",
    "}\n",
    "print('Running single_biased_node_four_traces with configuration:')\n",
    "print(cfg4)\n",
    "out4 = single_biased_node_four_traces(**cfg4)\n",
    "plot_single_biased_node(out4, save_path=\"single_biased_node.png\", write_csv=True, csv_path=\"single_biased_node_summary.csv\")\n",
    "print('Saved: single_biased_node.png, single_biased_node_summary.csv')\n"
   ]
  },
  {
   "cell_type": "code",
   "execution_count": null,
   "id": "2dd8ca5c",
   "metadata": {},
   "outputs": [],
   "source": [
    "#@title Download results (optional)\n",
    "try:\n",
    "    from google.colab import files\n",
    "except ModuleNotFoundError:\n",
    "    print('google.colab module not available; run this cell inside Colab to download files.')\n",
    "else:\n",
    "    for f in [\"compare_topologies.png\", \"single_biased_node.png\",\n",
    "              \"compare_topologies_summary.csv\", \"single_biased_node_summary.csv\"]:\n",
    "        try:\n",
    "            files.download(f)\n",
    "        except Exception as e:\n",
    "            print(f'Skip {f}: {e}')\n"
   ]
  }
 ],
 "metadata": {
  "kernelspec": {
   "display_name": "Python 3",
   "language": "python",
   "name": "python3"
  },
  "language_info": {
   "name": "python"
  }
 },
 "nbformat": 4,
 "nbformat_minor": 5
}